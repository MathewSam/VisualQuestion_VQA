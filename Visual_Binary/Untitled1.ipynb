{
 "cells": [
  {
   "cell_type": "code",
   "execution_count": 1,
   "metadata": {},
   "outputs": [],
   "source": [
    "import errno\n",
    "import os\n",
    "import numpy as np\n",
    "from PIL import Image\n",
    "import torch\n",
    "import torch.nn as nn\n",
    "import pickle\n",
    "import json"
   ]
  },
  {
   "cell_type": "code",
   "execution_count": 3,
   "metadata": {},
   "outputs": [],
   "source": [
    "def load_folder(folder, suffix):\n",
    "    imgs = []\n",
    "    for f in sorted(os.listdir(folder)):\n",
    "        if f.endswith(suffix):\n",
    "            imgs.append(os.path.join(folder, f))\n",
    "    return imgs\n",
    "\n",
    "\n",
    "def load_imageid(folder):\n",
    "    images = load_folder(folder, 'png')\n",
    "    img_ids = set()\n",
    "    for img in images:\n",
    "        img_id = int(img.split('/')[-1].split('.')[0].split('_')[-1])\n",
    "        img_ids.add(img_id)\n",
    "    return img_ids\n",
    "\n",
    "def get_imageid_path(folder,name):\n",
    "    images = load_folder(folder, 'png')\n",
    "    imgid_path={}\n",
    "    img_ids = set()\n",
    "    for img in images:\n",
    "        img_id = int(img.split('/')[-1].split('.')[0].split('_')[-1])\n",
    "        img_ids.add(img_id)\n",
    "        imgid_path[img_id]=img\n",
    "    print(\"saving img id to path\")\n",
    "\n",
    "    pickle.dump(imgid_path,open('data/'+name+'_imgid_path.pkl','wb'))\n",
    "\n",
    "def get_question_imgid(dataroot,name):\n",
    "    filename = dataroot+'/cache/{}_target.pkl'.format(name)\n",
    "    train_target = pickle.load(open(filename,'rb'))\n",
    "\n",
    "    question_imgid={}\n",
    "    question_label={}\n",
    "    for item in train_target:\n",
    "        q_id = item['question_id']\n",
    "        i_id = item['image_id']\n",
    "        question_imgid[q_id]=i_id\n",
    "\n",
    "        id=np.argmax(item['scores'])\n",
    "\n",
    "        lab_id=item['labels'][id]\n",
    "        question_label[q_id]=lab_id\n",
    "\n",
    "    print(\"Saving question image id and label id\")\n",
    "    savefile_img=dataroot+'/{}_question_imgid.pkl'.format(name)\n",
    "    savefile_lab=dataroot+'/{}_question_labid.pkl'.format(name)\n",
    "    pickle.dump(question_imgid, open(savefile_img, 'wb'))\n",
    "    pickle.dump(question_label, open(savefile_lab, 'wb'))\n",
    "\n",
    "def get_questionid_question(dataroot):\n",
    "\n",
    "    train_question=json.load(open(dataroot+'/v2_OpenEnded_mscoco_train2014_questions.json'))['questions']\n",
    "    val_question=json.load(open(dataroot+'/v2_OpenEnded_mscoco_val2014_questions.json'))['questions']\n",
    "\n",
    "    val_questionid_question={}\n",
    "    for item in val_question:\n",
    "        q_id = item['question_id']\n",
    "        ques = item['question']\n",
    "        val_questionid_question[q_id]=ques\n",
    "\n",
    "    print(\"Saving question id to question pickle\")\n",
    "    pickle.dump(val_questionid_question, open(dataroot+'/val_questionid_question.pkl', 'wb'))\n",
    "\n",
    "    train_questionid_question={}\n",
    "    for item in train_question:\n",
    "        q_id = item['question_id']\n",
    "        ques = item['question']\n",
    "        train_questionid_question[q_id]=ques\n",
    "\n",
    "    print(\"Saving question id to question pickle\")\n",
    "    pickle.dump(train_questionid_question, open(dataroot+'/train_questionid_question.pkl', 'wb'))"
   ]
  },
  {
   "cell_type": "code",
   "execution_count": 4,
   "metadata": {},
   "outputs": [],
   "source": [
    "root_folder = \"/Users/nithin_rao/MyFiles/MS/USC/Spring_2019/CSCI_599_DL/Project/\""
   ]
  },
  {
   "cell_type": "code",
   "execution_count": null,
   "metadata": {},
   "outputs": [],
   "source": []
  }
 ],
 "metadata": {
  "kernelspec": {
   "display_name": "Python 3",
   "language": "python",
   "name": "python3"
  },
  "language_info": {
   "codemirror_mode": {
    "name": "ipython",
    "version": 3
   },
   "file_extension": ".py",
   "mimetype": "text/x-python",
   "name": "python",
   "nbconvert_exporter": "python",
   "pygments_lexer": "ipython3",
   "version": "3.6.3"
  }
 },
 "nbformat": 4,
 "nbformat_minor": 2
}
